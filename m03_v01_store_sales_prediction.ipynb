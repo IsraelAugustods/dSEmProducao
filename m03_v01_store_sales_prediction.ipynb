{
 "cells": [
  {
   "cell_type": "markdown",
   "id": "2d183e98",
   "metadata": {
    "ExecuteTime": {
     "end_time": "2022-03-27T15:15:17.857328Z",
     "start_time": "2022-03-27T15:15:17.853643Z"
    }
   },
   "source": [
    "# 0.0 IMPORTS"
   ]
  },
  {
   "cell_type": "code",
   "execution_count": 23,
   "id": "704a7492",
   "metadata": {
    "ExecuteTime": {
     "end_time": "2022-04-08T11:56:33.213439Z",
     "start_time": "2022-04-08T11:56:33.207171Z"
    }
   },
   "outputs": [],
   "source": [
    "import math\n",
    "import pandas as pd\n",
    "import inflection\n",
    "import seaborn as sns\n",
    "import numpy as np\n",
    "import matplotlib.pyplot as plt\n",
    "import datetime\n",
    "\n",
    "from IPython.display import Image\n",
    "\n"
   ]
  },
  {
   "cell_type": "markdown",
   "id": "242ef8bf",
   "metadata": {
    "ExecuteTime": {
     "end_time": "2022-03-27T15:18:24.670274Z",
     "start_time": "2022-03-27T15:18:24.666266Z"
    },
    "heading_collapsed": true
   },
   "source": [
    "## 0.1 HELPER FUNCTIONS"
   ]
  },
  {
   "cell_type": "code",
   "execution_count": null,
   "id": "c1f6c327",
   "metadata": {
    "hidden": true
   },
   "outputs": [],
   "source": []
  },
  {
   "cell_type": "markdown",
   "id": "6588b5b1",
   "metadata": {
    "heading_collapsed": true
   },
   "source": [
    "## 0.2 LOADING DATA"
   ]
  },
  {
   "cell_type": "code",
   "execution_count": 2,
   "id": "a5384830",
   "metadata": {
    "ExecuteTime": {
     "end_time": "2022-04-08T11:48:19.474971Z",
     "start_time": "2022-04-08T11:48:18.954169Z"
    },
    "hidden": true
   },
   "outputs": [],
   "source": [
    "df_sales_raw = pd.read_csv('data/train.csv', low_memory=False)\n",
    "df_store_raw = pd.read_csv('data/store.csv', low_memory=False)"
   ]
  },
  {
   "cell_type": "code",
   "execution_count": 3,
   "id": "c061a2ed",
   "metadata": {
    "ExecuteTime": {
     "end_time": "2022-04-08T11:48:19.916341Z",
     "start_time": "2022-04-08T11:48:19.476190Z"
    },
    "hidden": true
   },
   "outputs": [],
   "source": [
    "#Merge\n",
    "df_raw = pd.merge(df_sales_raw, df_store_raw, how= 'left', on = 'Store')"
   ]
  },
  {
   "cell_type": "markdown",
   "id": "cbac6861",
   "metadata": {
    "heading_collapsed": true
   },
   "source": [
    "#  1.0. PASSO 01 -  DESCRIÇÃO DE DADOS"
   ]
  },
  {
   "cell_type": "code",
   "execution_count": 4,
   "id": "dd827ff0",
   "metadata": {
    "ExecuteTime": {
     "end_time": "2022-04-08T11:48:20.306389Z",
     "start_time": "2022-04-08T11:48:19.921083Z"
    },
    "hidden": true
   },
   "outputs": [],
   "source": [
    "df1 = df_raw.copy()"
   ]
  },
  {
   "cell_type": "markdown",
   "id": "3d259095",
   "metadata": {
    "heading_collapsed": true,
    "hidden": true
   },
   "source": [
    "## 1.1 RENAME COLUMNS"
   ]
  },
  {
   "cell_type": "code",
   "execution_count": 5,
   "id": "f294e1ad",
   "metadata": {
    "ExecuteTime": {
     "end_time": "2022-04-08T11:48:20.313786Z",
     "start_time": "2022-04-08T11:48:20.308002Z"
    },
    "hidden": true
   },
   "outputs": [],
   "source": [
    "cols_old = ['Store', 'DayOfWeek', 'Date', 'Sales', 'Customers', 'Open', 'Promo',\n",
    "       'StateHoliday', 'SchoolHoliday', 'StoreType', 'Assortment',\n",
    "       'CompetitionDistance', 'CompetitionOpenSinceMonth',\n",
    "       'CompetitionOpenSinceYear', 'Promo2', 'Promo2SinceWeek',\n",
    "       'Promo2SinceYear', 'PromoInterval']\n",
    "\n",
    "snakecase = lambda x: inflection.underscore(x)\n",
    "cols_new = list(map( snakecase, cols_old))\n",
    "\n",
    "#Rename\n",
    "\n",
    "df1.columns = cols_new\n"
   ]
  },
  {
   "cell_type": "markdown",
   "id": "4c33023f",
   "metadata": {
    "heading_collapsed": true,
    "hidden": true
   },
   "source": [
    "## 1.2  DATA DIMENSIONS"
   ]
  },
  {
   "cell_type": "code",
   "execution_count": 6,
   "id": "525efe61",
   "metadata": {
    "ExecuteTime": {
     "end_time": "2022-04-08T11:48:20.321845Z",
     "start_time": "2022-04-08T11:48:20.316566Z"
    },
    "hidden": true
   },
   "outputs": [
    {
     "name": "stdout",
     "output_type": "stream",
     "text": [
      "Number of row: 1017209 \n",
      "Number of Columns: 18 \n"
     ]
    }
   ],
   "source": [
    "datad1 = df1.shape[0]\n",
    "datad2 = df1.shape[1]\n",
    "\n",
    "print (f'Number of row: {datad1} ')\n",
    "print (f'Number of Columns: {datad2} ')"
   ]
  },
  {
   "cell_type": "markdown",
   "id": "836df3dc",
   "metadata": {
    "ExecuteTime": {
     "end_time": "2022-03-30T00:01:31.341539Z",
     "start_time": "2022-03-30T00:01:31.336628Z"
    },
    "heading_collapsed": true,
    "hidden": true
   },
   "source": [
    "## 1.3  DATA TYPES"
   ]
  },
  {
   "cell_type": "code",
   "execution_count": 7,
   "id": "18eaadf2",
   "metadata": {
    "ExecuteTime": {
     "end_time": "2022-04-08T11:48:20.464113Z",
     "start_time": "2022-04-08T11:48:20.324855Z"
    },
    "hidden": true
   },
   "outputs": [
    {
     "data": {
      "text/plain": [
       "store                                    int64\n",
       "day_of_week                              int64\n",
       "date                            datetime64[ns]\n",
       "sales                                    int64\n",
       "customers                                int64\n",
       "open                                     int64\n",
       "promo                                    int64\n",
       "state_holiday                           object\n",
       "school_holiday                           int64\n",
       "store_type                              object\n",
       "assortment                              object\n",
       "competition_distance                   float64\n",
       "competition_open_since_month           float64\n",
       "competition_open_since_year            float64\n",
       "promo2                                   int64\n",
       "promo2_since_week                      float64\n",
       "promo2_since_year                      float64\n",
       "promo_interval                          object\n",
       "dtype: object"
      ]
     },
     "execution_count": 7,
     "metadata": {},
     "output_type": "execute_result"
    }
   ],
   "source": [
    "df1 ['date'] = pd.to_datetime (df1['date'])\n",
    "df1.dtypes"
   ]
  },
  {
   "cell_type": "markdown",
   "id": "5a21b530",
   "metadata": {
    "heading_collapsed": true,
    "hidden": true
   },
   "source": [
    "## 1.4  CHECK NA "
   ]
  },
  {
   "cell_type": "code",
   "execution_count": 8,
   "id": "16fc110a",
   "metadata": {
    "ExecuteTime": {
     "end_time": "2022-04-08T11:48:20.667668Z",
     "start_time": "2022-04-08T11:48:20.467904Z"
    },
    "hidden": true
   },
   "outputs": [
    {
     "data": {
      "text/plain": [
       "store                                0\n",
       "day_of_week                          0\n",
       "date                                 0\n",
       "sales                                0\n",
       "customers                            0\n",
       "open                                 0\n",
       "promo                                0\n",
       "state_holiday                        0\n",
       "school_holiday                       0\n",
       "store_type                           0\n",
       "assortment                           0\n",
       "competition_distance              2642\n",
       "competition_open_since_month    323348\n",
       "competition_open_since_year     323348\n",
       "promo2                               0\n",
       "promo2_since_week               508031\n",
       "promo2_since_year               508031\n",
       "promo_interval                  508031\n",
       "dtype: int64"
      ]
     },
     "execution_count": 8,
     "metadata": {},
     "output_type": "execute_result"
    }
   ],
   "source": [
    "df1.isna().sum()"
   ]
  },
  {
   "cell_type": "markdown",
   "id": "4b77368c",
   "metadata": {
    "heading_collapsed": true,
    "hidden": true
   },
   "source": [
    "## 1.5  FILLOUT NA "
   ]
  },
  {
   "cell_type": "code",
   "execution_count": 9,
   "id": "24c8411a",
   "metadata": {
    "ExecuteTime": {
     "end_time": "2022-04-08T11:49:37.120450Z",
     "start_time": "2022-04-08T11:48:20.669005Z"
    },
    "code_folding": [],
    "hidden": true
   },
   "outputs": [],
   "source": [
    "# competition_distance              \n",
    "\n",
    "df1['competition_distance'] = df1['competition_distance'].apply(lambda x: 200000.0 if math.isnan(x) else x)   \n",
    "\n",
    "# competition_open_since_month    \n",
    "\n",
    "df1['competition_open_since_month'] = df1.apply (lambda x: x['date'].month if math.isnan( x['competition_open_since_month']) else x['competition_open_since_month'], axis = 1)\n",
    "\n",
    "\n",
    "# competition_open_since_year     \n",
    "df1['competition_open_since_year'] = df1.apply (lambda x: x['date'].year if math.isnan( x['competition_open_since_year']) else x['competition_open_since_year'], axis = 1 )\n",
    "\n",
    "# promo2_since_week               \n",
    "\n",
    "df1['promo2_since_week'] = df1.apply (lambda x: x['date'].week if math.isnan( x['promo2_since_week']) else x['promo2_since_week'], axis = 1 )\n",
    "\n",
    "# promo2_since_year               \n",
    "\n",
    "df1['promo2_since_year'] = df1.apply (lambda x: x['date'].year if math.isnan( x['promo2_since_year']) else x['promo2_since_year'], axis = 1 )\n",
    "\n",
    "# promo_interval  \n",
    "\n",
    "month_map = {1: 'Jan', 2: 'Fev', 3: 'Mar', 4: 'Apr', 5: 'May', 6: 'Jun', 7: 'Jul', 8: 'Aug', 9: 'Sep', 10: 'Oct', 11: 'Nov', 12: 'Dec'}\n",
    "\n",
    "df1['promo_interval'].fillna(0, inplace= True)\n",
    "\n",
    "df1['month_map'] = df1['date'].dt.month.map(month_map)\n",
    "\n",
    "df1['is_promo'] = df1[['promo_interval', 'month_map']].apply (lambda x: 0 if x['promo_interval'] == 0 else 1 if x['month_map'] in x['promo_interval'].split (',') else 0, axis = 1) \n"
   ]
  },
  {
   "cell_type": "markdown",
   "id": "4485def3",
   "metadata": {
    "heading_collapsed": true,
    "hidden": true
   },
   "source": [
    "## 1.6  CHANGE TYPES"
   ]
  },
  {
   "cell_type": "code",
   "execution_count": 10,
   "id": "d807d80d",
   "metadata": {
    "ExecuteTime": {
     "end_time": "2022-04-08T11:49:37.173525Z",
     "start_time": "2022-04-08T11:49:37.122367Z"
    },
    "hidden": true
   },
   "outputs": [],
   "source": [
    "df1['competition_open_since_month'] = df1['competition_open_since_month'].astype( int )\n",
    "df1['competition_open_since_year'] = df1['competition_open_since_year'].astype( int )\n",
    "\n",
    "\n",
    "df1['promo2_since_week'] = df1['promo2_since_week'].astype( int )\n",
    "df1['promo2_since_year'] = df1['promo2_since_year'].astype( int )"
   ]
  },
  {
   "cell_type": "markdown",
   "id": "5aabfd40",
   "metadata": {
    "heading_collapsed": true,
    "hidden": true
   },
   "source": [
    "## 1.7  DESCRIPTIVE STATISTICAL"
   ]
  },
  {
   "cell_type": "code",
   "execution_count": 11,
   "id": "b268327b",
   "metadata": {
    "ExecuteTime": {
     "end_time": "2022-04-08T11:49:37.349915Z",
     "start_time": "2022-04-08T11:49:37.174776Z"
    },
    "hidden": true
   },
   "outputs": [],
   "source": [
    "num_attributes = df1.select_dtypes(include= ['int64', 'float64'])\n",
    "cat_attributes = df1.select_dtypes(exclude= ['int64', 'float64', 'datetime64[ns]'])"
   ]
  },
  {
   "cell_type": "markdown",
   "id": "ceda7801",
   "metadata": {
    "heading_collapsed": true,
    "hidden": true
   },
   "source": [
    "## 1.7.1 NUMERICAL ATTRIBUTES"
   ]
  },
  {
   "cell_type": "code",
   "execution_count": 12,
   "id": "1b06469a",
   "metadata": {
    "ExecuteTime": {
     "end_time": "2022-04-08T11:49:39.859531Z",
     "start_time": "2022-04-08T11:49:37.351053Z"
    },
    "hidden": true
   },
   "outputs": [
    {
     "data": {
      "text/html": [
       "<div>\n",
       "<style scoped>\n",
       "    .dataframe tbody tr th:only-of-type {\n",
       "        vertical-align: middle;\n",
       "    }\n",
       "\n",
       "    .dataframe tbody tr th {\n",
       "        vertical-align: top;\n",
       "    }\n",
       "\n",
       "    .dataframe thead th {\n",
       "        text-align: right;\n",
       "    }\n",
       "</style>\n",
       "<table border=\"1\" class=\"dataframe\">\n",
       "  <thead>\n",
       "    <tr style=\"text-align: right;\">\n",
       "      <th></th>\n",
       "      <th>attributes</th>\n",
       "      <th>min</th>\n",
       "      <th>max</th>\n",
       "      <th>range</th>\n",
       "      <th>mean</th>\n",
       "      <th>median</th>\n",
       "      <th>std</th>\n",
       "      <th>skew</th>\n",
       "      <th>kurtosis</th>\n",
       "    </tr>\n",
       "  </thead>\n",
       "  <tbody>\n",
       "    <tr>\n",
       "      <th>0</th>\n",
       "      <td>store</td>\n",
       "      <td>1.0</td>\n",
       "      <td>1115.0</td>\n",
       "      <td>1114.0</td>\n",
       "      <td>558.429727</td>\n",
       "      <td>558.0</td>\n",
       "      <td>321.908493</td>\n",
       "      <td>-0.000955</td>\n",
       "      <td>-1.200524</td>\n",
       "    </tr>\n",
       "    <tr>\n",
       "      <th>1</th>\n",
       "      <td>day_of_week</td>\n",
       "      <td>1.0</td>\n",
       "      <td>7.0</td>\n",
       "      <td>6.0</td>\n",
       "      <td>3.998341</td>\n",
       "      <td>4.0</td>\n",
       "      <td>1.997390</td>\n",
       "      <td>0.001593</td>\n",
       "      <td>-1.246873</td>\n",
       "    </tr>\n",
       "    <tr>\n",
       "      <th>2</th>\n",
       "      <td>sales</td>\n",
       "      <td>0.0</td>\n",
       "      <td>41551.0</td>\n",
       "      <td>41551.0</td>\n",
       "      <td>5773.818972</td>\n",
       "      <td>5744.0</td>\n",
       "      <td>3849.924283</td>\n",
       "      <td>0.641460</td>\n",
       "      <td>1.778375</td>\n",
       "    </tr>\n",
       "    <tr>\n",
       "      <th>3</th>\n",
       "      <td>customers</td>\n",
       "      <td>0.0</td>\n",
       "      <td>7388.0</td>\n",
       "      <td>7388.0</td>\n",
       "      <td>633.145946</td>\n",
       "      <td>609.0</td>\n",
       "      <td>464.411506</td>\n",
       "      <td>1.598650</td>\n",
       "      <td>7.091773</td>\n",
       "    </tr>\n",
       "    <tr>\n",
       "      <th>4</th>\n",
       "      <td>open</td>\n",
       "      <td>0.0</td>\n",
       "      <td>1.0</td>\n",
       "      <td>1.0</td>\n",
       "      <td>0.830107</td>\n",
       "      <td>1.0</td>\n",
       "      <td>0.375539</td>\n",
       "      <td>-1.758045</td>\n",
       "      <td>1.090723</td>\n",
       "    </tr>\n",
       "    <tr>\n",
       "      <th>5</th>\n",
       "      <td>promo</td>\n",
       "      <td>0.0</td>\n",
       "      <td>1.0</td>\n",
       "      <td>1.0</td>\n",
       "      <td>0.381515</td>\n",
       "      <td>0.0</td>\n",
       "      <td>0.485758</td>\n",
       "      <td>0.487838</td>\n",
       "      <td>-1.762018</td>\n",
       "    </tr>\n",
       "    <tr>\n",
       "      <th>6</th>\n",
       "      <td>school_holiday</td>\n",
       "      <td>0.0</td>\n",
       "      <td>1.0</td>\n",
       "      <td>1.0</td>\n",
       "      <td>0.178647</td>\n",
       "      <td>0.0</td>\n",
       "      <td>0.383056</td>\n",
       "      <td>1.677842</td>\n",
       "      <td>0.815154</td>\n",
       "    </tr>\n",
       "    <tr>\n",
       "      <th>7</th>\n",
       "      <td>competition_distance</td>\n",
       "      <td>20.0</td>\n",
       "      <td>200000.0</td>\n",
       "      <td>199980.0</td>\n",
       "      <td>5935.442677</td>\n",
       "      <td>2330.0</td>\n",
       "      <td>12547.646829</td>\n",
       "      <td>10.242344</td>\n",
       "      <td>147.789712</td>\n",
       "    </tr>\n",
       "    <tr>\n",
       "      <th>8</th>\n",
       "      <td>competition_open_since_month</td>\n",
       "      <td>1.0</td>\n",
       "      <td>12.0</td>\n",
       "      <td>11.0</td>\n",
       "      <td>6.786849</td>\n",
       "      <td>7.0</td>\n",
       "      <td>3.311085</td>\n",
       "      <td>-0.042076</td>\n",
       "      <td>-1.232607</td>\n",
       "    </tr>\n",
       "    <tr>\n",
       "      <th>9</th>\n",
       "      <td>competition_open_since_year</td>\n",
       "      <td>1900.0</td>\n",
       "      <td>2015.0</td>\n",
       "      <td>115.0</td>\n",
       "      <td>2010.324840</td>\n",
       "      <td>2012.0</td>\n",
       "      <td>5.515591</td>\n",
       "      <td>-7.235657</td>\n",
       "      <td>124.071304</td>\n",
       "    </tr>\n",
       "    <tr>\n",
       "      <th>10</th>\n",
       "      <td>promo2</td>\n",
       "      <td>0.0</td>\n",
       "      <td>1.0</td>\n",
       "      <td>1.0</td>\n",
       "      <td>0.500564</td>\n",
       "      <td>1.0</td>\n",
       "      <td>0.500000</td>\n",
       "      <td>-0.002255</td>\n",
       "      <td>-1.999999</td>\n",
       "    </tr>\n",
       "    <tr>\n",
       "      <th>11</th>\n",
       "      <td>promo2_since_week</td>\n",
       "      <td>1.0</td>\n",
       "      <td>52.0</td>\n",
       "      <td>51.0</td>\n",
       "      <td>23.619033</td>\n",
       "      <td>22.0</td>\n",
       "      <td>14.310057</td>\n",
       "      <td>0.178723</td>\n",
       "      <td>-1.184046</td>\n",
       "    </tr>\n",
       "    <tr>\n",
       "      <th>12</th>\n",
       "      <td>promo2_since_year</td>\n",
       "      <td>2009.0</td>\n",
       "      <td>2015.0</td>\n",
       "      <td>6.0</td>\n",
       "      <td>2012.793297</td>\n",
       "      <td>2013.0</td>\n",
       "      <td>1.662657</td>\n",
       "      <td>-0.784436</td>\n",
       "      <td>-0.210075</td>\n",
       "    </tr>\n",
       "    <tr>\n",
       "      <th>13</th>\n",
       "      <td>is_promo</td>\n",
       "      <td>0.0</td>\n",
       "      <td>1.0</td>\n",
       "      <td>1.0</td>\n",
       "      <td>0.155231</td>\n",
       "      <td>0.0</td>\n",
       "      <td>0.362124</td>\n",
       "      <td>1.904152</td>\n",
       "      <td>1.625796</td>\n",
       "    </tr>\n",
       "  </tbody>\n",
       "</table>\n",
       "</div>"
      ],
      "text/plain": [
       "                      attributes     min       max     range         mean  \\\n",
       "0                          store     1.0    1115.0    1114.0   558.429727   \n",
       "1                    day_of_week     1.0       7.0       6.0     3.998341   \n",
       "2                          sales     0.0   41551.0   41551.0  5773.818972   \n",
       "3                      customers     0.0    7388.0    7388.0   633.145946   \n",
       "4                           open     0.0       1.0       1.0     0.830107   \n",
       "5                          promo     0.0       1.0       1.0     0.381515   \n",
       "6                 school_holiday     0.0       1.0       1.0     0.178647   \n",
       "7           competition_distance    20.0  200000.0  199980.0  5935.442677   \n",
       "8   competition_open_since_month     1.0      12.0      11.0     6.786849   \n",
       "9    competition_open_since_year  1900.0    2015.0     115.0  2010.324840   \n",
       "10                        promo2     0.0       1.0       1.0     0.500564   \n",
       "11             promo2_since_week     1.0      52.0      51.0    23.619033   \n",
       "12             promo2_since_year  2009.0    2015.0       6.0  2012.793297   \n",
       "13                      is_promo     0.0       1.0       1.0     0.155231   \n",
       "\n",
       "    median           std       skew    kurtosis  \n",
       "0    558.0    321.908493  -0.000955   -1.200524  \n",
       "1      4.0      1.997390   0.001593   -1.246873  \n",
       "2   5744.0   3849.924283   0.641460    1.778375  \n",
       "3    609.0    464.411506   1.598650    7.091773  \n",
       "4      1.0      0.375539  -1.758045    1.090723  \n",
       "5      0.0      0.485758   0.487838   -1.762018  \n",
       "6      0.0      0.383056   1.677842    0.815154  \n",
       "7   2330.0  12547.646829  10.242344  147.789712  \n",
       "8      7.0      3.311085  -0.042076   -1.232607  \n",
       "9   2012.0      5.515591  -7.235657  124.071304  \n",
       "10     1.0      0.500000  -0.002255   -1.999999  \n",
       "11    22.0     14.310057   0.178723   -1.184046  \n",
       "12  2013.0      1.662657  -0.784436   -0.210075  \n",
       "13     0.0      0.362124   1.904152    1.625796  "
      ]
     },
     "execution_count": 12,
     "metadata": {},
     "output_type": "execute_result"
    }
   ],
   "source": [
    "# Central Tendency - mean, median \n",
    "\n",
    "ct1 = pd.DataFrame (num_attributes.apply(np.mean)).T\n",
    "ct2 = pd.DataFrame (num_attributes.apply(np.median)).T\n",
    "\n",
    "# Dispersion - min, max, std, skew, kurtosis, range \n",
    "d1 = pd.DataFrame (num_attributes.apply( np.std ) ).T\n",
    "d2 = pd.DataFrame (num_attributes.apply( min )).T\n",
    "d3 = pd.DataFrame (num_attributes.apply( max )).T\n",
    "d4 = pd.DataFrame (num_attributes.apply( lambda x: x.max() - x.min() )).T\n",
    "d5 = pd.DataFrame (num_attributes.apply( lambda x: x.skew() ) ).T\n",
    "d6 = pd.DataFrame (num_attributes.apply( lambda x: x.kurtosis() ) ).T\n",
    "\n",
    "\n",
    "#Concatena \n",
    "\n",
    "m = pd.concat([d2, d3, d4, ct1, ct2, d1, d5, d6]).T.reset_index()\n",
    "\n",
    "m.columns = ['attributes', 'min', 'max','range', 'mean', 'median','std', 'skew', 'kurtosis']\n",
    "\n",
    "m\n",
    "\n",
    "\n"
   ]
  },
  {
   "cell_type": "markdown",
   "id": "f3e2fc52",
   "metadata": {
    "heading_collapsed": true,
    "hidden": true
   },
   "source": [
    "## 1.7.2  CATEGORICAL ATTRIBUTES "
   ]
  },
  {
   "cell_type": "code",
   "execution_count": 13,
   "id": "8221267a",
   "metadata": {
    "ExecuteTime": {
     "end_time": "2022-04-08T11:49:40.083002Z",
     "start_time": "2022-04-08T11:49:39.860883Z"
    },
    "hidden": true
   },
   "outputs": [
    {
     "data": {
      "text/plain": [
       "state_holiday      4\n",
       "store_type         4\n",
       "assortment         3\n",
       "promo_interval     4\n",
       "month_map         12\n",
       "dtype: int64"
      ]
     },
     "execution_count": 13,
     "metadata": {},
     "output_type": "execute_result"
    }
   ],
   "source": [
    "cat_attributes.apply(lambda x: x.unique().shape[0])"
   ]
  },
  {
   "cell_type": "code",
   "execution_count": 14,
   "id": "8593a1dd",
   "metadata": {
    "ExecuteTime": {
     "end_time": "2022-04-08T11:49:40.564823Z",
     "start_time": "2022-04-08T11:49:40.085289Z"
    },
    "hidden": true
   },
   "outputs": [
    {
     "data": {
      "text/plain": [
       "<AxesSubplot:xlabel='assortment', ylabel='sales'>"
      ]
     },
     "execution_count": 14,
     "metadata": {},
     "output_type": "execute_result"
    },
    {
     "data": {
      "image/png": "[encoded data removed]",
      "text/plain": [
       "<Figure size 432x288 with 3 Axes>"
      ]
     },
     "metadata": {
      "needs_background": "light"
     },
     "output_type": "display_data"
    }
   ],
   "source": [
    "aux1 = df1[(df1['state_holiday'] != '0') & (df1['sales'] > 0)]\n",
    "\n",
    "plt.subplot (1,3,1)\n",
    "sns.boxplot( x= 'state_holiday', y='sales', data= aux1)\n",
    "\n",
    "plt.subplot (1,3,2)\n",
    "sns.boxplot( x= 'store_type', y='sales', data= aux1)\n",
    "\n",
    "plt.subplot (1,3,3)\n",
    "sns.boxplot( x= 'assortment', y='sales', data= aux1)\n",
    "\n"
   ]
  },
  {
   "cell_type": "markdown",
   "id": "17be5ee7",
   "metadata": {},
   "source": [
    "# 2.0. PASSO 02 - FEATURE ENGINEERING"
   ]
  },
  {
   "cell_type": "code",
   "execution_count": 15,
   "id": "03463267",
   "metadata": {
    "ExecuteTime": {
     "end_time": "2022-04-08T11:49:40.622695Z",
     "start_time": "2022-04-08T11:49:40.566154Z"
    }
   },
   "outputs": [],
   "source": [
    "df2 = df1.copy()"
   ]
  },
  {
   "cell_type": "code",
   "execution_count": 16,
   "id": "e3cc3192",
   "metadata": {
    "ExecuteTime": {
     "end_time": "2022-04-08T11:49:40.654718Z",
     "start_time": "2022-04-08T11:49:40.623993Z"
    }
   },
   "outputs": [
    {
     "data": {
      "image/png": "[encoded data removed]",
      "text/plain": [
       "<IPython.core.display.Image object>"
      ]
     },
     "execution_count": 16,
     "metadata": {},
     "output_type": "execute_result"
    }
   ],
   "source": [
    "Image ('img/MindMap.png')"
   ]
  },
  {
   "cell_type": "markdown",
   "id": "564a9835",
   "metadata": {
    "heading_collapsed": true
   },
   "source": [
    "## 2.1 CRIANDO HIPOTESES"
   ]
  },
  {
   "cell_type": "markdown",
   "id": "cb2d642f",
   "metadata": {
    "hidden": true
   },
   "source": [
    "### 2.1.1 HIPOTESES LOJA"
   ]
  },
  {
   "cell_type": "markdown",
   "id": "b6c87095",
   "metadata": {
    "ExecuteTime": {
     "end_time": "2022-04-02T14:34:06.961513Z",
     "start_time": "2022-04-02T14:34:06.954330Z"
    },
    "hidden": true
   },
   "source": [
    "**1.** Lojas com um numero maior de funcionarios deveriam vender mais.\n",
    "\n",
    "**2.** Lojas com maior capacidade de estoque deveriam vender mais.\n",
    "\n",
    "**3.** Lojas com maior porte deveriam vender mais.\n",
    "\n",
    "**4.** Lojas com maior sortimentos deveriam vender mais.\n",
    "\n",
    "**5.** Lojas com competidores mais perto deveriam vender menos.\n",
    "\n",
    "**6.** Lojas com competidores a mais tempo deveriam vender mais.\n"
   ]
  },
  {
   "cell_type": "markdown",
   "id": "ee9056e9",
   "metadata": {
    "hidden": true
   },
   "source": [
    "### 2.1.2 HIPOTESES PRODUTO "
   ]
  },
  {
   "cell_type": "markdown",
   "id": "79e575b6",
   "metadata": {
    "hidden": true
   },
   "source": [
    "**1.** Lojas que invesem mais em Marketing deveriam vender mais.\n",
    "\n",
    "**2.** Lojas com maior exposição de produtos deveriam vender mais.\n",
    "\n",
    "**3.** Lojas com produtos com preço menor deveriam vender mais.\n",
    "\n",
    "**4.** Lojas com promoções mais agressivas, deveriam vender mais.\n",
    "\n",
    "**5.** Lojas com promoções ativas por mais tempo, deveriam vender mais.\n",
    "\n",
    "**6.** Lojas com mais dias de promoção deveriam vender mais.\n",
    "\n",
    "**7.** Lojas com mais promoções consecutivas deveriam vender mais.\n",
    "\n"
   ]
  },
  {
   "cell_type": "markdown",
   "id": "b0287d9a",
   "metadata": {
    "hidden": true
   },
   "source": [
    "### 2.1.1  HIPOTESES TEMPO "
   ]
  },
  {
   "cell_type": "markdown",
   "id": "e8605303",
   "metadata": {
    "hidden": true
   },
   "source": [
    "**1.** Lojas abertas durante o feriado de Natal deveriam vender mais.\n",
    "\n",
    "**2.** Lojas  deveriam vender mais ao longo do anos.\n",
    "\n",
    "**3.** Lojas  deveriam vender mais no segundo semestre do ano.\n",
    "\n",
    "**4.** Lojas  deveriam vender mais depois do dia 10 de cada mês.\n",
    "\n",
    "**5.** Lojas  deveriam vender menos aos finais de semana.\n",
    "\n",
    "**6.** Lojas  deveriam vender menos durante os feriados escolares."
   ]
  },
  {
   "cell_type": "markdown",
   "id": "b8ec8067",
   "metadata": {
    "ExecuteTime": {
     "end_time": "2022-04-02T15:08:40.687419Z",
     "start_time": "2022-04-02T15:08:40.683534Z"
    },
    "heading_collapsed": true
   },
   "source": [
    "## 2.2 LISTA FINAL DE HIPOTESES"
   ]
  },
  {
   "cell_type": "markdown",
   "id": "69cfcfa9",
   "metadata": {
    "hidden": true
   },
   "source": [
    "**1.** Lojas com maior sortimentos deveriam vender mais.\n",
    "\n",
    "**2.** Lojas com competidores mais perto deveriam vender menos.\n",
    "\n",
    "**3.** Lojas com competidores a mais tempo deveriam vender mais.\n",
    "\n",
    "**4.** Lojas com promoções ativas por mais tempo, deveriam vender mais.\n",
    "\n",
    "**5.** Lojas com mais dias de promoção deveriam vender mais.\n",
    "\n",
    "**6.** Lojas com mais promoções consecutivas deveriam vender mais.\n",
    "\n",
    "**7.** Lojas abertas durante o feriado de Natal deveriam vender mais.\n",
    "\n",
    "**8.** Lojas  deveriam vender mais ao longo do anos.\n",
    "\n",
    "**9.** Lojas  deveriam vender mais no segundo semestre do ano.\n",
    "\n",
    "**10.** Lojas  deveriam vender mais depois do dia 10 de cada mês.\n",
    "\n",
    "**11.** Lojas  deveriam vender menos aos finais de semana.\n",
    "\n",
    "**12.** Lojas  deveriam vender menos durante os feriados escolares.\n",
    "\n",
    "\n"
   ]
  },
  {
   "cell_type": "markdown",
   "id": "3e116493",
   "metadata": {
    "ExecuteTime": {
     "end_time": "2022-04-02T15:40:19.447337Z",
     "start_time": "2022-04-02T15:40:19.443584Z"
    }
   },
   "source": [
    "## 2.3 FEATURE ENGINEERING"
   ]
  },
  {
   "cell_type": "code",
   "execution_count": 37,
   "id": "3d9738be",
   "metadata": {
    "ExecuteTime": {
     "end_time": "2022-04-08T12:30:27.250674Z",
     "start_time": "2022-04-08T12:29:31.976427Z"
    }
   },
   "outputs": [],
   "source": [
    "# year\n",
    "df2['year'] = df2['date'].dt.year\n",
    "\n",
    "# month \n",
    "df2['month'] = df2['date'].dt.month\n",
    "\n",
    "# day\n",
    "df2['day'] = df2['date'].dt.day\n",
    "\n",
    "# week of year\n",
    "df2['week_of_year'] = df2['date'].dt.isocalendar().week\n",
    "\n",
    "# year week \n",
    "df2['year_week'] = df2['date'].dt.strftime('%Y-%W')\n",
    "\n",
    "\n",
    "\n",
    "# competition since\n",
    "df2['competition_since'] = df2.apply(lambda x: datetime.datetime( year= x['competition_open_since_year'], month= x['competition_open_since_month'], day= 1 ), axis = 1) \n",
    "\n",
    "df2['competition_time_month'] = (( df2['date'] - df2 ['competition_since'])/30 ).apply (lambda x: x.days).astype(int)\n",
    "\n",
    "\n",
    "# promo since\n",
    "df2['promo_since'] = df2['promo2_since_year'].astype(str) + '-' + df2['promo2_since_week'].astype(str)\n",
    "\n",
    "df2['promo_since'] = df2['promo_since'].apply(lambda x: datetime.datetime.strptime(x + '-1', '%Y-%W-%w') - datetime.timedelta(days = 7) )\n",
    "\n",
    "df2['promo_time_week'] = ((df2['date'] - df2['promo_since'])/ 7).apply(lambda x: x.days).astype(int)\n",
    "\n",
    "\n",
    "# assortment\n",
    "\n",
    "df2 ['assortment'] = df2['assortment'].apply(lambda x: 'basic' if x == 'a' else 'extra' if x == 'b' else 'extended')\n",
    "\n",
    "# state holiday\n",
    "\n",
    "df2['state_holiday'] = df2['state_holiday'].apply(lambda x: 'public_holiday' if x == 'a' else 'easter_holiday' if x == 'b' else 'christmas' if x == 'c' else 'regular_day')\n",
    "\n"
   ]
  },
  {
   "cell_type": "code",
   "execution_count": 39,
   "id": "3a4b6a82",
   "metadata": {
    "ExecuteTime": {
     "end_time": "2022-04-08T12:30:54.183435Z",
     "start_time": "2022-04-08T12:30:54.116317Z"
    }
   },
   "outputs": [
    {
     "data": {
      "text/html": [
       "<div>\n",
       "<style scoped>\n",
       "    .dataframe tbody tr th:only-of-type {\n",
       "        vertical-align: middle;\n",
       "    }\n",
       "\n",
       "    .dataframe tbody tr th {\n",
       "        vertical-align: top;\n",
       "    }\n",
       "\n",
       "    .dataframe thead th {\n",
       "        text-align: right;\n",
       "    }\n",
       "</style>\n",
       "<table border=\"1\" class=\"dataframe\">\n",
       "  <thead>\n",
       "    <tr style=\"text-align: right;\">\n",
       "      <th></th>\n",
       "      <th>558985</th>\n",
       "      <th>733903</th>\n",
       "      <th>616351</th>\n",
       "      <th>175494</th>\n",
       "      <th>624777</th>\n",
       "      <th>235828</th>\n",
       "      <th>787205</th>\n",
       "      <th>910141</th>\n",
       "      <th>67534</th>\n",
       "      <th>924754</th>\n",
       "    </tr>\n",
       "  </thead>\n",
       "  <tbody>\n",
       "    <tr>\n",
       "      <th>store</th>\n",
       "      <td>41</td>\n",
       "      <td>1019</td>\n",
       "      <td>542</td>\n",
       "      <td>440</td>\n",
       "      <td>48</td>\n",
       "      <td>564</td>\n",
       "      <td>801</td>\n",
       "      <td>1087</td>\n",
       "      <td>635</td>\n",
       "      <td>90</td>\n",
       "    </tr>\n",
       "    <tr>\n",
       "      <th>day_of_week</th>\n",
       "      <td>6</td>\n",
       "      <td>4</td>\n",
       "      <td>4</td>\n",
       "      <td>2</td>\n",
       "      <td>3</td>\n",
       "      <td>4</td>\n",
       "      <td>5</td>\n",
       "      <td>7</td>\n",
       "      <td>1</td>\n",
       "      <td>7</td>\n",
       "    </tr>\n",
       "    <tr>\n",
       "      <th>date</th>\n",
       "      <td>2014-02-15 00:00:00</td>\n",
       "      <td>2013-09-12 00:00:00</td>\n",
       "      <td>2013-12-26 00:00:00</td>\n",
       "      <td>2015-02-24 00:00:00</td>\n",
       "      <td>2013-12-18 00:00:00</td>\n",
       "      <td>2015-01-01 00:00:00</td>\n",
       "      <td>2013-07-26 00:00:00</td>\n",
       "      <td>2013-04-07 00:00:00</td>\n",
       "      <td>2015-06-01 00:00:00</td>\n",
       "      <td>2013-03-24 00:00:00</td>\n",
       "    </tr>\n",
       "    <tr>\n",
       "      <th>sales</th>\n",
       "      <td>4913</td>\n",
       "      <td>9759</td>\n",
       "      <td>0</td>\n",
       "      <td>4184</td>\n",
       "      <td>5957</td>\n",
       "      <td>0</td>\n",
       "      <td>4573</td>\n",
       "      <td>0</td>\n",
       "      <td>11465</td>\n",
       "      <td>0</td>\n",
       "    </tr>\n",
       "    <tr>\n",
       "      <th>customers</th>\n",
       "      <td>380</td>\n",
       "      <td>828</td>\n",
       "      <td>0</td>\n",
       "      <td>558</td>\n",
       "      <td>609</td>\n",
       "      <td>0</td>\n",
       "      <td>493</td>\n",
       "      <td>0</td>\n",
       "      <td>926</td>\n",
       "      <td>0</td>\n",
       "    </tr>\n",
       "    <tr>\n",
       "      <th>open</th>\n",
       "      <td>1</td>\n",
       "      <td>1</td>\n",
       "      <td>0</td>\n",
       "      <td>1</td>\n",
       "      <td>1</td>\n",
       "      <td>0</td>\n",
       "      <td>1</td>\n",
       "      <td>0</td>\n",
       "      <td>1</td>\n",
       "      <td>0</td>\n",
       "    </tr>\n",
       "    <tr>\n",
       "      <th>promo</th>\n",
       "      <td>0</td>\n",
       "      <td>1</td>\n",
       "      <td>0</td>\n",
       "      <td>0</td>\n",
       "      <td>1</td>\n",
       "      <td>0</td>\n",
       "      <td>0</td>\n",
       "      <td>0</td>\n",
       "      <td>1</td>\n",
       "      <td>0</td>\n",
       "    </tr>\n",
       "    <tr>\n",
       "      <th>state_holiday</th>\n",
       "      <td>regular_day</td>\n",
       "      <td>regular_day</td>\n",
       "      <td>christmas</td>\n",
       "      <td>regular_day</td>\n",
       "      <td>regular_day</td>\n",
       "      <td>public_holiday</td>\n",
       "      <td>regular_day</td>\n",
       "      <td>regular_day</td>\n",
       "      <td>regular_day</td>\n",
       "      <td>regular_day</td>\n",
       "    </tr>\n",
       "    <tr>\n",
       "      <th>school_holiday</th>\n",
       "      <td>0</td>\n",
       "      <td>0</td>\n",
       "      <td>1</td>\n",
       "      <td>0</td>\n",
       "      <td>0</td>\n",
       "      <td>1</td>\n",
       "      <td>1</td>\n",
       "      <td>0</td>\n",
       "      <td>0</td>\n",
       "      <td>0</td>\n",
       "    </tr>\n",
       "    <tr>\n",
       "      <th>store_type</th>\n",
       "      <td>d</td>\n",
       "      <td>d</td>\n",
       "      <td>a</td>\n",
       "      <td>d</td>\n",
       "      <td>a</td>\n",
       "      <td>d</td>\n",
       "      <td>d</td>\n",
       "      <td>d</td>\n",
       "      <td>a</td>\n",
       "      <td>a</td>\n",
       "    </tr>\n",
       "    <tr>\n",
       "      <th>assortment</th>\n",
       "      <td>extended</td>\n",
       "      <td>extended</td>\n",
       "      <td>basic</td>\n",
       "      <td>basic</td>\n",
       "      <td>basic</td>\n",
       "      <td>extended</td>\n",
       "      <td>basic</td>\n",
       "      <td>extended</td>\n",
       "      <td>basic</td>\n",
       "      <td>basic</td>\n",
       "    </tr>\n",
       "    <tr>\n",
       "      <th>competition_distance</th>\n",
       "      <td>1180.0</td>\n",
       "      <td>2740.0</td>\n",
       "      <td>7280.0</td>\n",
       "      <td>3900.0</td>\n",
       "      <td>1060.0</td>\n",
       "      <td>6540.0</td>\n",
       "      <td>48330.0</td>\n",
       "      <td>2210.0</td>\n",
       "      <td>27530.0</td>\n",
       "      <td>330.0</td>\n",
       "    </tr>\n",
       "    <tr>\n",
       "      <th>competition_open_since_month</th>\n",
       "      <td>2</td>\n",
       "      <td>7</td>\n",
       "      <td>9</td>\n",
       "      <td>4</td>\n",
       "      <td>5</td>\n",
       "      <td>1</td>\n",
       "      <td>4</td>\n",
       "      <td>11</td>\n",
       "      <td>4</td>\n",
       "      <td>11</td>\n",
       "    </tr>\n",
       "    <tr>\n",
       "      <th>competition_open_since_year</th>\n",
       "      <td>2014</td>\n",
       "      <td>2014</td>\n",
       "      <td>2012</td>\n",
       "      <td>2005</td>\n",
       "      <td>2012</td>\n",
       "      <td>2015</td>\n",
       "      <td>2013</td>\n",
       "      <td>2011</td>\n",
       "      <td>2014</td>\n",
       "      <td>2007</td>\n",
       "    </tr>\n",
       "    <tr>\n",
       "      <th>promo2</th>\n",
       "      <td>1</td>\n",
       "      <td>1</td>\n",
       "      <td>1</td>\n",
       "      <td>1</td>\n",
       "      <td>0</td>\n",
       "      <td>1</td>\n",
       "      <td>0</td>\n",
       "      <td>0</td>\n",
       "      <td>0</td>\n",
       "      <td>0</td>\n",
       "    </tr>\n",
       "    <tr>\n",
       "      <th>promo2_since_week</th>\n",
       "      <td>31</td>\n",
       "      <td>13</td>\n",
       "      <td>1</td>\n",
       "      <td>45</td>\n",
       "      <td>51</td>\n",
       "      <td>14</td>\n",
       "      <td>30</td>\n",
       "      <td>14</td>\n",
       "      <td>23</td>\n",
       "      <td>12</td>\n",
       "    </tr>\n",
       "    <tr>\n",
       "      <th>promo2_since_year</th>\n",
       "      <td>2013</td>\n",
       "      <td>2010</td>\n",
       "      <td>2013</td>\n",
       "      <td>2009</td>\n",
       "      <td>2013</td>\n",
       "      <td>2013</td>\n",
       "      <td>2013</td>\n",
       "      <td>2013</td>\n",
       "      <td>2015</td>\n",
       "      <td>2013</td>\n",
       "    </tr>\n",
       "    <tr>\n",
       "      <th>promo_interval</th>\n",
       "      <td>Jan,Apr,Jul,Oct</td>\n",
       "      <td>Jan,Apr,Jul,Oct</td>\n",
       "      <td>Jan,Apr,Jul,Oct</td>\n",
       "      <td>Feb,May,Aug,Nov</td>\n",
       "      <td>0</td>\n",
       "      <td>Jan,Apr,Jul,Oct</td>\n",
       "      <td>0</td>\n",
       "      <td>0</td>\n",
       "      <td>0</td>\n",
       "      <td>0</td>\n",
       "    </tr>\n",
       "    <tr>\n",
       "      <th>month_map</th>\n",
       "      <td>Fev</td>\n",
       "      <td>Sep</td>\n",
       "      <td>Dec</td>\n",
       "      <td>Fev</td>\n",
       "      <td>Dec</td>\n",
       "      <td>Jan</td>\n",
       "      <td>Jul</td>\n",
       "      <td>Apr</td>\n",
       "      <td>Jun</td>\n",
       "      <td>Mar</td>\n",
       "    </tr>\n",
       "    <tr>\n",
       "      <th>is_promo</th>\n",
       "      <td>0</td>\n",
       "      <td>0</td>\n",
       "      <td>0</td>\n",
       "      <td>0</td>\n",
       "      <td>0</td>\n",
       "      <td>1</td>\n",
       "      <td>0</td>\n",
       "      <td>0</td>\n",
       "      <td>0</td>\n",
       "      <td>0</td>\n",
       "    </tr>\n",
       "    <tr>\n",
       "      <th>year</th>\n",
       "      <td>2014</td>\n",
       "      <td>2013</td>\n",
       "      <td>2013</td>\n",
       "      <td>2015</td>\n",
       "      <td>2013</td>\n",
       "      <td>2015</td>\n",
       "      <td>2013</td>\n",
       "      <td>2013</td>\n",
       "      <td>2015</td>\n",
       "      <td>2013</td>\n",
       "    </tr>\n",
       "    <tr>\n",
       "      <th>month</th>\n",
       "      <td>2</td>\n",
       "      <td>9</td>\n",
       "      <td>12</td>\n",
       "      <td>2</td>\n",
       "      <td>12</td>\n",
       "      <td>1</td>\n",
       "      <td>7</td>\n",
       "      <td>4</td>\n",
       "      <td>6</td>\n",
       "      <td>3</td>\n",
       "    </tr>\n",
       "    <tr>\n",
       "      <th>day</th>\n",
       "      <td>15</td>\n",
       "      <td>12</td>\n",
       "      <td>26</td>\n",
       "      <td>24</td>\n",
       "      <td>18</td>\n",
       "      <td>1</td>\n",
       "      <td>26</td>\n",
       "      <td>7</td>\n",
       "      <td>1</td>\n",
       "      <td>24</td>\n",
       "    </tr>\n",
       "    <tr>\n",
       "      <th>week_of_year</th>\n",
       "      <td>7</td>\n",
       "      <td>37</td>\n",
       "      <td>52</td>\n",
       "      <td>9</td>\n",
       "      <td>51</td>\n",
       "      <td>1</td>\n",
       "      <td>30</td>\n",
       "      <td>14</td>\n",
       "      <td>23</td>\n",
       "      <td>12</td>\n",
       "    </tr>\n",
       "    <tr>\n",
       "      <th>year_week</th>\n",
       "      <td>2014-06</td>\n",
       "      <td>2013-36</td>\n",
       "      <td>2013-51</td>\n",
       "      <td>2015-08</td>\n",
       "      <td>2013-50</td>\n",
       "      <td>2015-00</td>\n",
       "      <td>2013-29</td>\n",
       "      <td>2013-13</td>\n",
       "      <td>2015-22</td>\n",
       "      <td>2013-11</td>\n",
       "    </tr>\n",
       "    <tr>\n",
       "      <th>competition_since</th>\n",
       "      <td>2014-02-01 00:00:00</td>\n",
       "      <td>2014-07-01 00:00:00</td>\n",
       "      <td>2012-09-01 00:00:00</td>\n",
       "      <td>2005-04-01 00:00:00</td>\n",
       "      <td>2012-05-01 00:00:00</td>\n",
       "      <td>2015-01-01 00:00:00</td>\n",
       "      <td>2013-04-01 00:00:00</td>\n",
       "      <td>2011-11-01 00:00:00</td>\n",
       "      <td>2014-04-01 00:00:00</td>\n",
       "      <td>2007-11-01 00:00:00</td>\n",
       "    </tr>\n",
       "    <tr>\n",
       "      <th>competition_time_month</th>\n",
       "      <td>0</td>\n",
       "      <td>-10</td>\n",
       "      <td>16</td>\n",
       "      <td>120</td>\n",
       "      <td>19</td>\n",
       "      <td>0</td>\n",
       "      <td>3</td>\n",
       "      <td>17</td>\n",
       "      <td>14</td>\n",
       "      <td>65</td>\n",
       "    </tr>\n",
       "    <tr>\n",
       "      <th>promo_since</th>\n",
       "      <td>2013-07-29 00:00:00</td>\n",
       "      <td>2010-03-22 00:00:00</td>\n",
       "      <td>2012-12-31 00:00:00</td>\n",
       "      <td>2009-11-02 00:00:00</td>\n",
       "      <td>2013-12-16 00:00:00</td>\n",
       "      <td>2013-04-01 00:00:00</td>\n",
       "      <td>2013-07-22 00:00:00</td>\n",
       "      <td>2013-04-01 00:00:00</td>\n",
       "      <td>2015-06-01 00:00:00</td>\n",
       "      <td>2013-03-18 00:00:00</td>\n",
       "    </tr>\n",
       "    <tr>\n",
       "      <th>promo_time_week</th>\n",
       "      <td>28</td>\n",
       "      <td>181</td>\n",
       "      <td>51</td>\n",
       "      <td>277</td>\n",
       "      <td>0</td>\n",
       "      <td>91</td>\n",
       "      <td>0</td>\n",
       "      <td>0</td>\n",
       "      <td>0</td>\n",
       "      <td>0</td>\n",
       "    </tr>\n",
       "  </tbody>\n",
       "</table>\n",
       "</div>"
      ],
      "text/plain": [
       "                                           558985               733903  \\\n",
       "store                                          41                 1019   \n",
       "day_of_week                                     6                    4   \n",
       "date                          2014-02-15 00:00:00  2013-09-12 00:00:00   \n",
       "sales                                        4913                 9759   \n",
       "customers                                     380                  828   \n",
       "open                                            1                    1   \n",
       "promo                                           0                    1   \n",
       "state_holiday                         regular_day          regular_day   \n",
       "school_holiday                                  0                    0   \n",
       "store_type                                      d                    d   \n",
       "assortment                               extended             extended   \n",
       "competition_distance                       1180.0               2740.0   \n",
       "competition_open_since_month                    2                    7   \n",
       "competition_open_since_year                  2014                 2014   \n",
       "promo2                                          1                    1   \n",
       "promo2_since_week                              31                   13   \n",
       "promo2_since_year                            2013                 2010   \n",
       "promo_interval                    Jan,Apr,Jul,Oct      Jan,Apr,Jul,Oct   \n",
       "month_map                                     Fev                  Sep   \n",
       "is_promo                                        0                    0   \n",
       "year                                         2014                 2013   \n",
       "month                                           2                    9   \n",
       "day                                            15                   12   \n",
       "week_of_year                                    7                   37   \n",
       "year_week                                 2014-06              2013-36   \n",
       "competition_since             2014-02-01 00:00:00  2014-07-01 00:00:00   \n",
       "competition_time_month                          0                  -10   \n",
       "promo_since                   2013-07-29 00:00:00  2010-03-22 00:00:00   \n",
       "promo_time_week                                28                  181   \n",
       "\n",
       "                                           616351               175494  \\\n",
       "store                                         542                  440   \n",
       "day_of_week                                     4                    2   \n",
       "date                          2013-12-26 00:00:00  2015-02-24 00:00:00   \n",
       "sales                                           0                 4184   \n",
       "customers                                       0                  558   \n",
       "open                                            0                    1   \n",
       "promo                                           0                    0   \n",
       "state_holiday                           christmas          regular_day   \n",
       "school_holiday                                  1                    0   \n",
       "store_type                                      a                    d   \n",
       "assortment                                  basic                basic   \n",
       "competition_distance                       7280.0               3900.0   \n",
       "competition_open_since_month                    9                    4   \n",
       "competition_open_since_year                  2012                 2005   \n",
       "promo2                                          1                    1   \n",
       "promo2_since_week                               1                   45   \n",
       "promo2_since_year                            2013                 2009   \n",
       "promo_interval                    Jan,Apr,Jul,Oct      Feb,May,Aug,Nov   \n",
       "month_map                                     Dec                  Fev   \n",
       "is_promo                                        0                    0   \n",
       "year                                         2013                 2015   \n",
       "month                                          12                    2   \n",
       "day                                            26                   24   \n",
       "week_of_year                                   52                    9   \n",
       "year_week                                 2013-51              2015-08   \n",
       "competition_since             2012-09-01 00:00:00  2005-04-01 00:00:00   \n",
       "competition_time_month                         16                  120   \n",
       "promo_since                   2012-12-31 00:00:00  2009-11-02 00:00:00   \n",
       "promo_time_week                                51                  277   \n",
       "\n",
       "                                           624777               235828  \\\n",
       "store                                          48                  564   \n",
       "day_of_week                                     3                    4   \n",
       "date                          2013-12-18 00:00:00  2015-01-01 00:00:00   \n",
       "sales                                        5957                    0   \n",
       "customers                                     609                    0   \n",
       "open                                            1                    0   \n",
       "promo                                           1                    0   \n",
       "state_holiday                         regular_day       public_holiday   \n",
       "school_holiday                                  0                    1   \n",
       "store_type                                      a                    d   \n",
       "assortment                                  basic             extended   \n",
       "competition_distance                       1060.0               6540.0   \n",
       "competition_open_since_month                    5                    1   \n",
       "competition_open_since_year                  2012                 2015   \n",
       "promo2                                          0                    1   \n",
       "promo2_since_week                              51                   14   \n",
       "promo2_since_year                            2013                 2013   \n",
       "promo_interval                                  0      Jan,Apr,Jul,Oct   \n",
       "month_map                                     Dec                  Jan   \n",
       "is_promo                                        0                    1   \n",
       "year                                         2013                 2015   \n",
       "month                                          12                    1   \n",
       "day                                            18                    1   \n",
       "week_of_year                                   51                    1   \n",
       "year_week                                 2013-50              2015-00   \n",
       "competition_since             2012-05-01 00:00:00  2015-01-01 00:00:00   \n",
       "competition_time_month                         19                    0   \n",
       "promo_since                   2013-12-16 00:00:00  2013-04-01 00:00:00   \n",
       "promo_time_week                                 0                   91   \n",
       "\n",
       "                                           787205               910141  \\\n",
       "store                                         801                 1087   \n",
       "day_of_week                                     5                    7   \n",
       "date                          2013-07-26 00:00:00  2013-04-07 00:00:00   \n",
       "sales                                        4573                    0   \n",
       "customers                                     493                    0   \n",
       "open                                            1                    0   \n",
       "promo                                           0                    0   \n",
       "state_holiday                         regular_day          regular_day   \n",
       "school_holiday                                  1                    0   \n",
       "store_type                                      d                    d   \n",
       "assortment                                  basic             extended   \n",
       "competition_distance                      48330.0               2210.0   \n",
       "competition_open_since_month                    4                   11   \n",
       "competition_open_since_year                  2013                 2011   \n",
       "promo2                                          0                    0   \n",
       "promo2_since_week                              30                   14   \n",
       "promo2_since_year                            2013                 2013   \n",
       "promo_interval                                  0                    0   \n",
       "month_map                                     Jul                  Apr   \n",
       "is_promo                                        0                    0   \n",
       "year                                         2013                 2013   \n",
       "month                                           7                    4   \n",
       "day                                            26                    7   \n",
       "week_of_year                                   30                   14   \n",
       "year_week                                 2013-29              2013-13   \n",
       "competition_since             2013-04-01 00:00:00  2011-11-01 00:00:00   \n",
       "competition_time_month                          3                   17   \n",
       "promo_since                   2013-07-22 00:00:00  2013-04-01 00:00:00   \n",
       "promo_time_week                                 0                    0   \n",
       "\n",
       "                                           67534                924754  \n",
       "store                                         635                   90  \n",
       "day_of_week                                     1                    7  \n",
       "date                          2015-06-01 00:00:00  2013-03-24 00:00:00  \n",
       "sales                                       11465                    0  \n",
       "customers                                     926                    0  \n",
       "open                                            1                    0  \n",
       "promo                                           1                    0  \n",
       "state_holiday                         regular_day          regular_day  \n",
       "school_holiday                                  0                    0  \n",
       "store_type                                      a                    a  \n",
       "assortment                                  basic                basic  \n",
       "competition_distance                      27530.0                330.0  \n",
       "competition_open_since_month                    4                   11  \n",
       "competition_open_since_year                  2014                 2007  \n",
       "promo2                                          0                    0  \n",
       "promo2_since_week                              23                   12  \n",
       "promo2_since_year                            2015                 2013  \n",
       "promo_interval                                  0                    0  \n",
       "month_map                                     Jun                  Mar  \n",
       "is_promo                                        0                    0  \n",
       "year                                         2015                 2013  \n",
       "month                                           6                    3  \n",
       "day                                             1                   24  \n",
       "week_of_year                                   23                   12  \n",
       "year_week                                 2015-22              2013-11  \n",
       "competition_since             2014-04-01 00:00:00  2007-11-01 00:00:00  \n",
       "competition_time_month                         14                   65  \n",
       "promo_since                   2015-06-01 00:00:00  2013-03-18 00:00:00  \n",
       "promo_time_week                                 0                    0  "
      ]
     },
     "execution_count": 39,
     "metadata": {},
     "output_type": "execute_result"
    }
   ],
   "source": [
    "df2.sample(10).T"
   ]
  },
  {
   "cell_type": "code",
   "execution_count": null,
   "id": "30b9d24f",
   "metadata": {},
   "outputs": [],
   "source": []
  }
 ],
 "metadata": {
  "kernelspec": {
   "display_name": "Python 3 (ipykernel)",
   "language": "python",
   "name": "python3"
  },
  "language_info": {
   "codemirror_mode": {
    "name": "ipython",
    "version": 3
   },
   "file_extension": ".py",
   "mimetype": "text/x-python",
   "name": "python",
   "nbconvert_exporter": "python",
   "pygments_lexer": "ipython3",
   "version": "3.9.7"
  },
  "toc": {
   "base_numbering": 1,
   "nav_menu": {},
   "number_sections": true,
   "sideBar": true,
   "skip_h1_title": false,
   "title_cell": "Table of Contents",
   "title_sidebar": "Contents",
   "toc_cell": false,
   "toc_position": {},
   "toc_section_display": true,
   "toc_window_display": false
  }
 },
 "nbformat": 4,
 "nbformat_minor": 5
}
